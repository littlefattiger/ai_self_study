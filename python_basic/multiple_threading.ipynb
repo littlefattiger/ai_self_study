{
 "cells": [
  {
   "cell_type": "code",
   "execution_count": 1,
   "id": "737b472e-4e1a-43c9-b29c-f5c56079f0f3",
   "metadata": {},
   "outputs": [],
   "source": [
    "import threading\n",
    "import time"
   ]
  },
  {
   "cell_type": "markdown",
   "id": "dd84a30a-1695-4e04-84af-c264a2921a0e",
   "metadata": {},
   "source": [
    "## thread"
   ]
  },
  {
   "cell_type": "code",
   "execution_count": 12,
   "id": "1e205458-87f3-4baf-8a44-9d817ddbcb06",
   "metadata": {},
   "outputs": [
    {
     "name": "stdout",
     "output_type": "stream",
     "text": [
      "6\n"
     ]
    }
   ],
   "source": [
    "print(threading.active_count())"
   ]
  },
  {
   "cell_type": "code",
   "execution_count": 8,
   "id": "1900bda1-4320-4db5-b0e1-217a655acf54",
   "metadata": {},
   "outputs": [
    {
     "name": "stdout",
     "output_type": "stream",
     "text": [
      "[<_MainThread(MainThread, started 29828)>, <Thread(IOPub, started daemon 28244)>, <Heartbeat(Heartbeat, started daemon 15312)>, <ControlThread(Control, started daemon 20188)>, <HistorySavingThread(IPythonHistorySavingThread, started 35316)>, <ParentPollerWindows(Thread-1, started daemon 6876)>]\n"
     ]
    }
   ],
   "source": [
    "print(threading.enumerate())"
   ]
  },
  {
   "cell_type": "code",
   "execution_count": 9,
   "id": "f6b52ee5-027e-4529-abfb-99f2bc476e86",
   "metadata": {},
   "outputs": [
    {
     "name": "stdout",
     "output_type": "stream",
     "text": [
      "<_MainThread(MainThread, started 29828)>\n"
     ]
    }
   ],
   "source": [
    "print(threading.current_thread())"
   ]
  },
  {
   "cell_type": "code",
   "execution_count": 13,
   "id": "6d35f4bf-f0d5-494a-b0c9-d2133bed860d",
   "metadata": {},
   "outputs": [],
   "source": [
    "def thread_job():\n",
    "    print(f'This is a added job and the number is {threading.current_thread()}')"
   ]
  },
  {
   "cell_type": "code",
   "execution_count": 19,
   "id": "d94d1eff-7423-42dc-9606-5064496e744e",
   "metadata": {},
   "outputs": [],
   "source": [
    "added_thread = threading.Thread(target=thread_job)"
   ]
  },
  {
   "cell_type": "code",
   "execution_count": 20,
   "id": "ed0e1615-03d1-4d4d-a8a8-393bcf4a3126",
   "metadata": {},
   "outputs": [
    {
     "name": "stdout",
     "output_type": "stream",
     "text": [
      "This is a added job and the number is <Thread(Thread-5, started 15588)>\n"
     ]
    }
   ],
   "source": [
    "added_thread.start()"
   ]
  },
  {
   "cell_type": "code",
   "execution_count": 21,
   "id": "ec174ec5-0d69-460e-bf61-d63100e5ecc0",
   "metadata": {},
   "outputs": [
    {
     "ename": "RuntimeError",
     "evalue": "threads can only be started once",
     "output_type": "error",
     "traceback": [
      "\u001b[1;31m---------------------------------------------------------------------------\u001b[0m",
      "\u001b[1;31mRuntimeError\u001b[0m                              Traceback (most recent call last)",
      "Cell \u001b[1;32mIn[21], line 1\u001b[0m\n\u001b[1;32m----> 1\u001b[0m \u001b[43madded_thread\u001b[49m\u001b[38;5;241;43m.\u001b[39;49m\u001b[43mstart\u001b[49m\u001b[43m(\u001b[49m\u001b[43m)\u001b[49m\n",
      "File \u001b[1;32mD:\\anaconda3\\envs\\ntu2021\\lib\\threading.py:894\u001b[0m, in \u001b[0;36mThread.start\u001b[1;34m(self)\u001b[0m\n\u001b[0;32m    891\u001b[0m     \u001b[38;5;28;01mraise\u001b[39;00m \u001b[38;5;167;01mRuntimeError\u001b[39;00m(\u001b[38;5;124m\"\u001b[39m\u001b[38;5;124mthread.__init__() not called\u001b[39m\u001b[38;5;124m\"\u001b[39m)\n\u001b[0;32m    893\u001b[0m \u001b[38;5;28;01mif\u001b[39;00m \u001b[38;5;28mself\u001b[39m\u001b[38;5;241m.\u001b[39m_started\u001b[38;5;241m.\u001b[39mis_set():\n\u001b[1;32m--> 894\u001b[0m     \u001b[38;5;28;01mraise\u001b[39;00m \u001b[38;5;167;01mRuntimeError\u001b[39;00m(\u001b[38;5;124m\"\u001b[39m\u001b[38;5;124mthreads can only be started once\u001b[39m\u001b[38;5;124m\"\u001b[39m)\n\u001b[0;32m    896\u001b[0m \u001b[38;5;28;01mwith\u001b[39;00m _active_limbo_lock:\n\u001b[0;32m    897\u001b[0m     _limbo[\u001b[38;5;28mself\u001b[39m] \u001b[38;5;241m=\u001b[39m \u001b[38;5;28mself\u001b[39m\n",
      "\u001b[1;31mRuntimeError\u001b[0m: threads can only be started once"
     ]
    }
   ],
   "source": [
    "added_thread.start()"
   ]
  },
  {
   "cell_type": "code",
   "execution_count": 28,
   "id": "ce37cecf-1619-4a78-908c-320b5dce8ad5",
   "metadata": {},
   "outputs": [],
   "source": [
    "def thread_job(name):\n",
    "    print(f'{name} start')\n",
    "    for i in range(10):\n",
    "        time.sleep(0.1)\n",
    "    print(f'{name} Finish')"
   ]
  },
  {
   "cell_type": "code",
   "execution_count": 30,
   "id": "e5f79981-778b-45ea-8fc8-ffbb55345774",
   "metadata": {},
   "outputs": [],
   "source": [
    "def thread_job_no_sleep(name):\n",
    "    print(f'{name} start')\n",
    "    print(f'{name} Finish')"
   ]
  },
  {
   "cell_type": "code",
   "execution_count": 29,
   "id": "13c0d6b5-a246-4c27-9a4a-594e7b79f7ab",
   "metadata": {},
   "outputs": [
    {
     "name": "stdout",
     "output_type": "stream",
     "text": [
      "T1 start\n",
      "All Done\n",
      "T1 Finish\n"
     ]
    }
   ],
   "source": [
    "added_thread = threading.Thread(target=thread_job,args=(\"T1\",), name='T1')\n",
    "added_thread.start()\n",
    "print('All Done')"
   ]
  },
  {
   "cell_type": "markdown",
   "id": "b8e4b859-1bc2-4dbd-ad38-23e9692d676a",
   "metadata": {},
   "source": [
    "## Join"
   ]
  },
  {
   "cell_type": "code",
   "execution_count": 25,
   "id": "88a44ccc-285d-40e9-88ee-a4f356db292b",
   "metadata": {},
   "outputs": [
    {
     "name": "stdout",
     "output_type": "stream",
     "text": [
      "T1 start\n",
      "T1 Finish\n",
      "All Done\n"
     ]
    }
   ],
   "source": [
    "added_thread = threading.Thread(target=thread_job,args=(\"T1\",), name='T1')\n",
    "added_thread.start()\n",
    "added_thread.join()\n",
    "print('All Done')"
   ]
  },
  {
   "cell_type": "code",
   "execution_count": 31,
   "id": "0680097c-76b1-4263-a937-57f576366f34",
   "metadata": {},
   "outputs": [
    {
     "name": "stdout",
     "output_type": "stream",
     "text": [
      "T1 start\n",
      "T2 start\n",
      "T2 Finish\n",
      "All Done\n",
      "T1 Finish\n"
     ]
    }
   ],
   "source": [
    "thread1 = threading.Thread(target=thread_job,args=(\"T1\",), name='T1')\n",
    "thread1.start()\n",
    "thread2 = threading.Thread(target=thread_job_no_sleep,args=(\"T2\",), name='T2')\n",
    "thread2.start()\n",
    "print('All Done')"
   ]
  },
  {
   "cell_type": "code",
   "execution_count": 32,
   "id": "dd5c49d4-95da-4b5f-a0e6-174497adfba4",
   "metadata": {},
   "outputs": [
    {
     "name": "stdout",
     "output_type": "stream",
     "text": [
      "T1 start\n",
      "T2 start\n",
      "T2 Finish\n",
      "T1 Finish\n",
      "All Done\n"
     ]
    }
   ],
   "source": [
    "thread1 = threading.Thread(target=thread_job,args=(\"T1\",), name='T1')\n",
    "thread1.start()\n",
    "thread2 = threading.Thread(target=thread_job_no_sleep,args=(\"T2\",), name='T2')\n",
    "thread2.start()\n",
    "thread1.join()\n",
    "print('All Done')"
   ]
  },
  {
   "cell_type": "code",
   "execution_count": 33,
   "id": "8621408e-530a-40f9-8e29-d452e076aa29",
   "metadata": {},
   "outputs": [
    {
     "name": "stdout",
     "output_type": "stream",
     "text": [
      "T1 start\n",
      "T2 start\n",
      "T2 Finish\n",
      "All Done\n",
      "T1 Finish\n"
     ]
    }
   ],
   "source": [
    "thread1 = threading.Thread(target=thread_job,args=(\"T1\",), name='T1')\n",
    "thread1.start()\n",
    "thread2 = threading.Thread(target=thread_job_no_sleep,args=(\"T2\",), name='T2')\n",
    "thread2.start()\n",
    "thread2.join()\n",
    "print('All Done')"
   ]
  },
  {
   "cell_type": "code",
   "execution_count": 34,
   "id": "c4a0829d-eaf1-457f-8cad-9540a90d7e39",
   "metadata": {},
   "outputs": [
    {
     "name": "stdout",
     "output_type": "stream",
     "text": [
      "T1 start\n",
      "T2 start\n",
      "T2 Finish\n",
      "T1 Finish\n",
      "All Done\n"
     ]
    }
   ],
   "source": [
    "thread1 = threading.Thread(target=thread_job,args=(\"T1\",), name='T1')\n",
    "thread1.start()\n",
    "thread2 = threading.Thread(target=thread_job_no_sleep,args=(\"T2\",), name='T2')\n",
    "thread2.start()\n",
    "thread1.join()\n",
    "thread2.join()\n",
    "print('All Done')"
   ]
  },
  {
   "cell_type": "markdown",
   "id": "c513f45d-b9c3-4f43-ab49-aa0c96ba30c5",
   "metadata": {},
   "source": [
    "## Queue"
   ]
  },
  {
   "cell_type": "code",
   "execution_count": 35,
   "id": "6d3412b3-eb11-4540-91b1-0eeead6fb7d4",
   "metadata": {},
   "outputs": [],
   "source": [
    "from queue import Queue"
   ]
  },
  {
   "cell_type": "code",
   "execution_count": 36,
   "id": "d526065d-6d14-432a-bebd-783a51957aec",
   "metadata": {},
   "outputs": [],
   "source": [
    "def job(l, q):\n",
    "    for i in range(len(l)):\n",
    "        l[i] = l[i] * 2\n",
    "    q.put(l)"
   ]
  },
  {
   "cell_type": "code",
   "execution_count": 41,
   "id": "2fbb94ef-e9eb-4842-abeb-23e8af4dae48",
   "metadata": {},
   "outputs": [
    {
     "name": "stdout",
     "output_type": "stream",
     "text": [
      "[[2, 2, 2], [4, 4, 4], [6, 6, 6], [8, 8, 8]]\n"
     ]
    }
   ],
   "source": [
    "q = Queue()\n",
    "threads = []\n",
    "data = [[1,1,1], [2,2,2], [3,3,3], [4,4,4]]\n",
    "for i in range(4):\n",
    "    thread = threading.Thread(target=job,args=(data[i],q,), name='T1')\n",
    "    thread.start()\n",
    "    threads.append(thread)\n",
    "for i in range(4):\n",
    "    threads[i].join()\n",
    "results = []\n",
    "for _ in range(4):\n",
    "    results.append(q.get())\n",
    "print(results)"
   ]
  },
  {
   "cell_type": "markdown",
   "id": "3373193d-289a-426a-a363-f66441e9df89",
   "metadata": {},
   "source": [
    "## GIL"
   ]
  },
  {
   "cell_type": "code",
   "execution_count": 42,
   "id": "5e9b609d-c849-4661-a1c6-6e60aa9d0243",
   "metadata": {},
   "outputs": [
    {
     "name": "stdout",
     "output_type": "stream",
     "text": [
      "1999998000000\n",
      "normal:  0.07899737358093262\n",
      "1999998000000\n",
      "multithreading:  0.07300972938537598\n"
     ]
    }
   ],
   "source": [
    "import threading\n",
    "from queue import Queue\n",
    "import copy\n",
    "import time\n",
    "\n",
    "def job(l, q):\n",
    "    res = sum(l)\n",
    "    q.put(res)\n",
    "\n",
    "def multithreading(l):\n",
    "    q = Queue()\n",
    "    threads = []\n",
    "    for i in range(4):\n",
    "        t = threading.Thread(target=job, args=(copy.copy(l), q), name='T%i' % i)\n",
    "        t.start()\n",
    "        threads.append(t)\n",
    "    [t.join() for t in threads]\n",
    "    total = 0\n",
    "    for _ in range(4):\n",
    "        total += q.get()\n",
    "    print(total)\n",
    "\n",
    "def normal(l):\n",
    "    total = sum(l)\n",
    "    print(total)\n",
    "\n",
    "l = list(range(1000000))\n",
    "s_t = time.time()\n",
    "normal(l*4)\n",
    "print('normal: ',time.time()-s_t)\n",
    "s_t = time.time()\n",
    "multithreading(l)\n",
    "print('multithreading: ', time.time()-s_t)\n",
    "\n"
   ]
  },
  {
   "cell_type": "markdown",
   "id": "22a1fe6a-e4c4-4cfc-b8d8-239e360fbd7c",
   "metadata": {},
   "source": [
    "## Multi-processing"
   ]
  },
  {
   "cell_type": "code",
   "execution_count": null,
   "id": "4a5552f7-1ee6-4df9-8518-189d4708a5b9",
   "metadata": {},
   "outputs": [
    {
     "name": "stdout",
     "output_type": "stream",
     "text": [
      "\n",
      "--- Sequential ---\n",
      "Summing up to 10000000\n",
      "Summing up to 10000000\n",
      "Summing up to 10000000\n",
      "Summing up to 10000000\n",
      "Results: [49999995000000, 49999995000000, 49999995000000, 49999995000000]\n",
      "Sequential time: 0.66 seconds\n",
      "\n",
      "--- Multiprocessing ---\n"
     ]
    }
   ],
   "source": [
    "# import multiprocessing\n",
    "# import time\n",
    "\n",
    "# def compute_sum(n):\n",
    "#     print(f\"Summing up to {n}\")\n",
    "#     return sum(range(n))\n",
    "\n",
    "# if __name__ == '__main__':\n",
    "#     # Workload: large sums\n",
    "#     tasks = [10_000_000, 10_000_000, 10_000_000, 10_000_000]\n",
    "\n",
    "#     print(\"\\n--- Sequential ---\")\n",
    "#     start = time.time()\n",
    "#     results_seq = [compute_sum(n) for n in tasks]\n",
    "#     end = time.time()\n",
    "#     print(\"Results:\", results_seq)\n",
    "#     print(f\"Sequential time: {end - start:.2f} seconds\")\n",
    "\n",
    "#     print(\"\\n--- Multiprocessing ---\")\n",
    "#     start = time.time()\n",
    "#     with multiprocessing.Pool(processes=4) as pool:\n",
    "#         results_mp = pool.map(compute_sum, tasks)\n",
    "#     end = time.time()\n",
    "#     print(\"Results:\", results_mp)\n",
    "#     print(f\"Multiprocessing time: {end - start:.2f} seconds\")"
   ]
  },
  {
   "cell_type": "markdown",
   "id": "32b98154-aa41-4779-87d0-61bf580a5144",
   "metadata": {},
   "source": [
    "## AsyncIO"
   ]
  },
  {
   "cell_type": "code",
   "execution_count": null,
   "id": "8afeccc8-df96-431d-b18d-3b4464d0c3bf",
   "metadata": {},
   "outputs": [],
   "source": [
    "import asyncio\n",
    "import time\n",
    "\n",
    "async def task(name, delay):\n",
    "    print(f\"{name} started\")\n",
    "    await asyncio.sleep(delay)\n",
    "    print(f\"{name} finished after {delay}s\")\n",
    "\n",
    "async def main():\n",
    "    start = time.time()\n",
    "\n",
    "    # Run three tasks concurrently\n",
    "    await asyncio.gather(\n",
    "        task(\"Task A\", 2),\n",
    "        task(\"Task B\", 1),\n",
    "        task(\"Task C\", 3)\n",
    "    )\n",
    "\n",
    "    end = time.time()\n",
    "    print(f\"All done in {end - start:.2f} seconds\")\n",
    "\n",
    "# Run the event loop\n",
    "asyncio.run(main())"
   ]
  },
  {
   "cell_type": "markdown",
   "id": "6f7db1fe-0810-4fff-a427-57cdcc73b7a7",
   "metadata": {},
   "source": [
    "## Thread Lock"
   ]
  },
  {
   "cell_type": "code",
   "execution_count": 13,
   "id": "ff2b2c05-47c3-4cb7-ac15-71770287fd81",
   "metadata": {},
   "outputs": [],
   "source": [
    "def job1():\n",
    "    global A\n",
    "    for i in range(10):\n",
    "        A+=1\n",
    "        print('job1',A)"
   ]
  },
  {
   "cell_type": "code",
   "execution_count": 18,
   "id": "654707eb-4022-4f8e-ac8f-e30ecd7775ef",
   "metadata": {},
   "outputs": [],
   "source": [
    "def job2():\n",
    "    global A\n",
    "    for i in range(10):\n",
    "        A+=10\n",
    "        print('job2',A)"
   ]
  },
  {
   "cell_type": "code",
   "execution_count": 19,
   "id": "71362cb1-8fcd-4245-850e-964c3c8007fe",
   "metadata": {},
   "outputs": [
    {
     "name": "stdout",
     "output_type": "stream",
     "text": [
      "job1 1\n",
      "job1 2\n",
      "job1 3\n",
      "job1 4\n",
      "job1 5\n",
      "job1 6\n",
      "job1 7\n",
      "job1 8\n",
      "job1 9\n",
      "job1 10\n",
      "job2 20\n",
      "job2 30\n",
      "job2 40\n",
      "job2 50\n",
      "job2 60\n",
      "job2 70\n",
      "job2 80\n",
      "job2 90\n",
      "job2 100\n",
      "job2 110\n"
     ]
    }
   ],
   "source": [
    "A=0\n",
    "t1=threading.Thread(target=job1)\n",
    "t2=threading.Thread(target=job2)\n",
    "t1.start()\n",
    "t2.start()\n",
    "t1.join()\n",
    "t2.join()"
   ]
  },
  {
   "cell_type": "code",
   "execution_count": 5,
   "id": "7ce2103b-9372-4076-a476-5aa2d387c09b",
   "metadata": {},
   "outputs": [
    {
     "data": {
      "text/plain": [
       "110"
      ]
     },
     "execution_count": 5,
     "metadata": {},
     "output_type": "execute_result"
    }
   ],
   "source": [
    "A"
   ]
  },
  {
   "cell_type": "code",
   "execution_count": 6,
   "id": "42e47f7b-0404-4c70-8686-99ab3b694b08",
   "metadata": {},
   "outputs": [],
   "source": [
    "def job1():\n",
    "    global A,lock\n",
    "    lock.acquire()\n",
    "    for i in range(10):\n",
    "        A+=1\n",
    "        print('job1',A)\n",
    "    lock.release()\n",
    "\n",
    "def job2():\n",
    "    global A,lock\n",
    "    lock.acquire()\n",
    "    for i in range(10):\n",
    "        A+=10\n",
    "        print('job2',A)\n",
    "    lock.release()"
   ]
  },
  {
   "cell_type": "code",
   "execution_count": 7,
   "id": "6ff7004f-1123-4cef-b3aa-758540930293",
   "metadata": {},
   "outputs": [
    {
     "name": "stdout",
     "output_type": "stream",
     "text": [
      "job1 1\n",
      "job1 2\n",
      "job1 3\n",
      "job1 4\n",
      "job1 5\n",
      "job1 6\n",
      "job1 7\n",
      "job1 8\n",
      "job1 9\n",
      "job1 10\n",
      "job2 20\n",
      "job2 30\n",
      "job2 40\n",
      "job2 50\n",
      "job2 60\n",
      "job2 70\n",
      "job2 80\n",
      "job2 90\n",
      "job2 100\n",
      "job2 110\n"
     ]
    }
   ],
   "source": [
    "lock=threading.Lock()\n",
    "A=0\n",
    "t1=threading.Thread(target=job1)\n",
    "t2=threading.Thread(target=job2)\n",
    "t1.start()\n",
    "t2.start()\n",
    "t1.join()\n",
    "t2.join()"
   ]
  },
  {
   "cell_type": "code",
   "execution_count": 37,
   "id": "7b6388d1-4ac7-4efd-8d26-1c4feb353e9d",
   "metadata": {},
   "outputs": [
    {
     "name": "stdout",
     "output_type": "stream",
     "text": [
      "Final counter: 1846831\n"
     ]
    }
   ],
   "source": [
    "counter = 0\n",
    "\n",
    "def add():\n",
    "    global counter\n",
    "    for _ in range(1000000):\n",
    "        counter += 1\n",
    "\n",
    "threads = [threading.Thread(target=add) for _ in range(2)]\n",
    "for t in threads:\n",
    "    t.start()\n",
    "for t in threads:\n",
    "    t.join()\n",
    "\n",
    "print(\"Final counter:\", counter)  # Often less than 2,000,000"
   ]
  },
  {
   "cell_type": "code",
   "execution_count": 38,
   "id": "bc926547-3e0e-4f26-b9f3-eb3ee5d48873",
   "metadata": {},
   "outputs": [
    {
     "name": "stdout",
     "output_type": "stream",
     "text": [
      "Final counter: 2000000\n"
     ]
    }
   ],
   "source": [
    "counter = 0\n",
    "lock = threading.Lock()\n",
    "\n",
    "def add():\n",
    "    global counter\n",
    "    for _ in range(1000000):\n",
    "        with lock:\n",
    "            counter += 1  # Only one thread at a time can do this\n",
    "\n",
    "threads = [threading.Thread(target=add) for _ in range(2)]\n",
    "for t in threads:\n",
    "    t.start()\n",
    "for t in threads:\n",
    "    t.join()\n",
    "\n",
    "print(\"Final counter:\", counter)  # Now always 2,000,000"
   ]
  },
  {
   "cell_type": "code",
   "execution_count": null,
   "id": "2632ecb0-ad73-4941-a7c1-02614b793869",
   "metadata": {},
   "outputs": [],
   "source": []
  }
 ],
 "metadata": {
  "kernelspec": {
   "display_name": "Python 3 (ipykernel)",
   "language": "python",
   "name": "python3"
  },
  "language_info": {
   "codemirror_mode": {
    "name": "ipython",
    "version": 3
   },
   "file_extension": ".py",
   "mimetype": "text/x-python",
   "name": "python",
   "nbconvert_exporter": "python",
   "pygments_lexer": "ipython3",
   "version": "3.9.21"
  }
 },
 "nbformat": 4,
 "nbformat_minor": 5
}
