{
 "cells": [
  {
   "cell_type": "code",
   "execution_count": 22,
   "id": "737b472e-4e1a-43c9-b29c-f5c56079f0f3",
   "metadata": {},
   "outputs": [],
   "source": [
    "import threading\n",
    "import time"
   ]
  },
  {
   "cell_type": "code",
   "execution_count": 12,
   "id": "1e205458-87f3-4baf-8a44-9d817ddbcb06",
   "metadata": {},
   "outputs": [
    {
     "name": "stdout",
     "output_type": "stream",
     "text": [
      "6\n"
     ]
    }
   ],
   "source": [
    "print(threading.active_count())"
   ]
  },
  {
   "cell_type": "code",
   "execution_count": 8,
   "id": "1900bda1-4320-4db5-b0e1-217a655acf54",
   "metadata": {},
   "outputs": [
    {
     "name": "stdout",
     "output_type": "stream",
     "text": [
      "[<_MainThread(MainThread, started 29828)>, <Thread(IOPub, started daemon 28244)>, <Heartbeat(Heartbeat, started daemon 15312)>, <ControlThread(Control, started daemon 20188)>, <HistorySavingThread(IPythonHistorySavingThread, started 35316)>, <ParentPollerWindows(Thread-1, started daemon 6876)>]\n"
     ]
    }
   ],
   "source": [
    "print(threading.enumerate())"
   ]
  },
  {
   "cell_type": "code",
   "execution_count": 9,
   "id": "f6b52ee5-027e-4529-abfb-99f2bc476e86",
   "metadata": {},
   "outputs": [
    {
     "name": "stdout",
     "output_type": "stream",
     "text": [
      "<_MainThread(MainThread, started 29828)>\n"
     ]
    }
   ],
   "source": [
    "print(threading.current_thread())"
   ]
  },
  {
   "cell_type": "code",
   "execution_count": 13,
   "id": "6d35f4bf-f0d5-494a-b0c9-d2133bed860d",
   "metadata": {},
   "outputs": [],
   "source": [
    "def thread_job():\n",
    "    print(f'This is a added job and the number is {threading.current_thread()}')"
   ]
  },
  {
   "cell_type": "code",
   "execution_count": 19,
   "id": "d94d1eff-7423-42dc-9606-5064496e744e",
   "metadata": {},
   "outputs": [],
   "source": [
    "added_thread = threading.Thread(target=thread_job)"
   ]
  },
  {
   "cell_type": "code",
   "execution_count": 20,
   "id": "ed0e1615-03d1-4d4d-a8a8-393bcf4a3126",
   "metadata": {},
   "outputs": [
    {
     "name": "stdout",
     "output_type": "stream",
     "text": [
      "This is a added job and the number is <Thread(Thread-5, started 15588)>\n"
     ]
    }
   ],
   "source": [
    "added_thread.start()"
   ]
  },
  {
   "cell_type": "code",
   "execution_count": 21,
   "id": "ec174ec5-0d69-460e-bf61-d63100e5ecc0",
   "metadata": {},
   "outputs": [
    {
     "ename": "RuntimeError",
     "evalue": "threads can only be started once",
     "output_type": "error",
     "traceback": [
      "\u001b[1;31m---------------------------------------------------------------------------\u001b[0m",
      "\u001b[1;31mRuntimeError\u001b[0m                              Traceback (most recent call last)",
      "Cell \u001b[1;32mIn[21], line 1\u001b[0m\n\u001b[1;32m----> 1\u001b[0m \u001b[43madded_thread\u001b[49m\u001b[38;5;241;43m.\u001b[39;49m\u001b[43mstart\u001b[49m\u001b[43m(\u001b[49m\u001b[43m)\u001b[49m\n",
      "File \u001b[1;32mD:\\anaconda3\\envs\\ntu2021\\lib\\threading.py:894\u001b[0m, in \u001b[0;36mThread.start\u001b[1;34m(self)\u001b[0m\n\u001b[0;32m    891\u001b[0m     \u001b[38;5;28;01mraise\u001b[39;00m \u001b[38;5;167;01mRuntimeError\u001b[39;00m(\u001b[38;5;124m\"\u001b[39m\u001b[38;5;124mthread.__init__() not called\u001b[39m\u001b[38;5;124m\"\u001b[39m)\n\u001b[0;32m    893\u001b[0m \u001b[38;5;28;01mif\u001b[39;00m \u001b[38;5;28mself\u001b[39m\u001b[38;5;241m.\u001b[39m_started\u001b[38;5;241m.\u001b[39mis_set():\n\u001b[1;32m--> 894\u001b[0m     \u001b[38;5;28;01mraise\u001b[39;00m \u001b[38;5;167;01mRuntimeError\u001b[39;00m(\u001b[38;5;124m\"\u001b[39m\u001b[38;5;124mthreads can only be started once\u001b[39m\u001b[38;5;124m\"\u001b[39m)\n\u001b[0;32m    896\u001b[0m \u001b[38;5;28;01mwith\u001b[39;00m _active_limbo_lock:\n\u001b[0;32m    897\u001b[0m     _limbo[\u001b[38;5;28mself\u001b[39m] \u001b[38;5;241m=\u001b[39m \u001b[38;5;28mself\u001b[39m\n",
      "\u001b[1;31mRuntimeError\u001b[0m: threads can only be started once"
     ]
    }
   ],
   "source": [
    "added_thread.start()"
   ]
  },
  {
   "cell_type": "code",
   "execution_count": 28,
   "id": "ce37cecf-1619-4a78-908c-320b5dce8ad5",
   "metadata": {},
   "outputs": [],
   "source": [
    "def thread_job(name):\n",
    "    print(f'{name} start')\n",
    "    for i in range(10):\n",
    "        time.sleep(0.1)\n",
    "    print(f'{name} Finish')"
   ]
  },
  {
   "cell_type": "code",
   "execution_count": 30,
   "id": "e5f79981-778b-45ea-8fc8-ffbb55345774",
   "metadata": {},
   "outputs": [],
   "source": [
    "def thread_job_no_sleep(name):\n",
    "    print(f'{name} start')\n",
    "    print(f'{name} Finish')"
   ]
  },
  {
   "cell_type": "code",
   "execution_count": 29,
   "id": "13c0d6b5-a246-4c27-9a4a-594e7b79f7ab",
   "metadata": {},
   "outputs": [
    {
     "name": "stdout",
     "output_type": "stream",
     "text": [
      "T1 start\n",
      "All Done\n",
      "T1 Finish\n"
     ]
    }
   ],
   "source": [
    "added_thread = threading.Thread(target=thread_job,args=(\"T1\",), name='T1')\n",
    "added_thread.start()\n",
    "print('All Done')"
   ]
  },
  {
   "cell_type": "code",
   "execution_count": 25,
   "id": "88a44ccc-285d-40e9-88ee-a4f356db292b",
   "metadata": {},
   "outputs": [
    {
     "name": "stdout",
     "output_type": "stream",
     "text": [
      "T1 start\n",
      "T1 Finish\n",
      "All Done\n"
     ]
    }
   ],
   "source": [
    "added_thread = threading.Thread(target=thread_job,args=(\"T1\",), name='T1')\n",
    "added_thread.start()\n",
    "added_thread.join()\n",
    "print('All Done')"
   ]
  },
  {
   "cell_type": "code",
   "execution_count": 31,
   "id": "0680097c-76b1-4263-a937-57f576366f34",
   "metadata": {},
   "outputs": [
    {
     "name": "stdout",
     "output_type": "stream",
     "text": [
      "T1 start\n",
      "T2 start\n",
      "T2 Finish\n",
      "All Done\n",
      "T1 Finish\n"
     ]
    }
   ],
   "source": [
    "thread1 = threading.Thread(target=thread_job,args=(\"T1\",), name='T1')\n",
    "thread1.start()\n",
    "thread2 = threading.Thread(target=thread_job_no_sleep,args=(\"T2\",), name='T2')\n",
    "thread2.start()\n",
    "print('All Done')"
   ]
  },
  {
   "cell_type": "code",
   "execution_count": 32,
   "id": "dd5c49d4-95da-4b5f-a0e6-174497adfba4",
   "metadata": {},
   "outputs": [
    {
     "name": "stdout",
     "output_type": "stream",
     "text": [
      "T1 start\n",
      "T2 start\n",
      "T2 Finish\n",
      "T1 Finish\n",
      "All Done\n"
     ]
    }
   ],
   "source": [
    "thread1 = threading.Thread(target=thread_job,args=(\"T1\",), name='T1')\n",
    "thread1.start()\n",
    "thread2 = threading.Thread(target=thread_job_no_sleep,args=(\"T2\",), name='T2')\n",
    "thread2.start()\n",
    "thread1.join()\n",
    "print('All Done')"
   ]
  },
  {
   "cell_type": "code",
   "execution_count": 33,
   "id": "8621408e-530a-40f9-8e29-d452e076aa29",
   "metadata": {},
   "outputs": [
    {
     "name": "stdout",
     "output_type": "stream",
     "text": [
      "T1 start\n",
      "T2 start\n",
      "T2 Finish\n",
      "All Done\n",
      "T1 Finish\n"
     ]
    }
   ],
   "source": [
    "thread1 = threading.Thread(target=thread_job,args=(\"T1\",), name='T1')\n",
    "thread1.start()\n",
    "thread2 = threading.Thread(target=thread_job_no_sleep,args=(\"T2\",), name='T2')\n",
    "thread2.start()\n",
    "thread2.join()\n",
    "print('All Done')"
   ]
  },
  {
   "cell_type": "code",
   "execution_count": 34,
   "id": "c4a0829d-eaf1-457f-8cad-9540a90d7e39",
   "metadata": {},
   "outputs": [
    {
     "name": "stdout",
     "output_type": "stream",
     "text": [
      "T1 start\n",
      "T2 start\n",
      "T2 Finish\n",
      "T1 Finish\n",
      "All Done\n"
     ]
    }
   ],
   "source": [
    "thread1 = threading.Thread(target=thread_job,args=(\"T1\",), name='T1')\n",
    "thread1.start()\n",
    "thread2 = threading.Thread(target=thread_job_no_sleep,args=(\"T2\",), name='T2')\n",
    "thread2.start()\n",
    "thread1.join()\n",
    "thread2.join()\n",
    "print('All Done')"
   ]
  },
  {
   "cell_type": "code",
   "execution_count": null,
   "id": "a319fdcd-541e-49f2-9fba-abbea088fd3c",
   "metadata": {},
   "outputs": [],
   "source": []
  }
 ],
 "metadata": {
  "kernelspec": {
   "display_name": "Python 3 (ipykernel)",
   "language": "python",
   "name": "python3"
  },
  "language_info": {
   "codemirror_mode": {
    "name": "ipython",
    "version": 3
   },
   "file_extension": ".py",
   "mimetype": "text/x-python",
   "name": "python",
   "nbconvert_exporter": "python",
   "pygments_lexer": "ipython3",
   "version": "3.9.21"
  }
 },
 "nbformat": 4,
 "nbformat_minor": 5
}
